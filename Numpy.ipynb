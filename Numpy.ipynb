{
 "cells": [
  {
   "cell_type": "code",
   "execution_count": 1,
   "id": "128a38bd-b25f-46b6-87e3-99ea2efb9177",
   "metadata": {},
   "outputs": [
    {
     "data": {
      "text/plain": [
       "'2.0.0'"
      ]
     },
     "execution_count": 1,
     "metadata": {},
     "output_type": "execute_result"
    }
   ],
   "source": [
    "import numpy as np\n",
    "np.__version__\n"
   ]
  },
  {
   "cell_type": "code",
   "execution_count": 2,
   "id": "adfff39c-4620-46ec-ab88-644ed6e0e278",
   "metadata": {},
   "outputs": [
    {
     "data": {
      "text/plain": [
       "array([0., 0., 0., 0., 0., 0., 0., 0., 0., 0.])"
      ]
     },
     "execution_count": 2,
     "metadata": {},
     "output_type": "execute_result"
    }
   ],
   "source": [
    "arr = np.zeros(10)\n",
    "arr"
   ]
  },
  {
   "cell_type": "code",
   "execution_count": null,
   "id": "abb9e052-a32e-4a39-894a-8412f8155c64",
   "metadata": {},
   "outputs": [],
   "source": []
  },
  {
   "cell_type": "code",
   "execution_count": 3,
   "id": "8941a9d9-4f5f-4e69-9f1c-c92dabe051c5",
   "metadata": {},
   "outputs": [
    {
     "name": "stdout",
     "output_type": "stream",
     "text": [
      "Help on built-in function len in module builtins:\n",
      "\n",
      "len(obj, /)\n",
      "    Return the number of items in a container.\n",
      "\n"
     ]
    }
   ],
   "source": [
    "help(len)"
   ]
  },
  {
   "cell_type": "markdown",
   "id": "f929da62-7395-49b2-87e6-aa02eaf2287b",
   "metadata": {},
   "source": [
    "Create An Array"
   ]
  },
  {
   "cell_type": "code",
   "execution_count": 4,
   "id": "63eb452f-23fa-452b-9baa-b5c19d8f5f89",
   "metadata": {},
   "outputs": [
    {
     "data": {
      "text/plain": [
       "array([ 0,  1,  2,  3,  4,  5,  6,  7,  8,  9, 10, 11, 12, 13, 14, 15, 16,\n",
       "       17, 18, 19, 20, 21, 22, 23, 24, 25, 26, 27, 28, 29, 30, 31, 32, 33,\n",
       "       34, 35, 36, 37, 38, 39, 40, 41, 42, 43, 44, 45, 46, 47, 48, 49, 50,\n",
       "       51, 52, 53, 54, 55, 56, 57, 58, 59, 60, 61, 62, 63, 64, 65, 66, 67,\n",
       "       68, 69, 70, 71, 72, 73, 74, 75, 76, 77, 78, 79, 80, 81, 82, 83, 84,\n",
       "       85, 86, 87, 88, 89, 90, 91, 92, 93, 94, 95, 96, 97, 98, 99])"
      ]
     },
     "execution_count": 4,
     "metadata": {},
     "output_type": "execute_result"
    }
   ],
   "source": [
    "arr1 = np.arange(0,100)\n",
    "arr1"
   ]
  },
  {
   "cell_type": "code",
   "execution_count": 5,
   "id": "fb20032f-18ab-4e7c-ae85-fd7be6c0d481",
   "metadata": {},
   "outputs": [
    {
     "ename": "SyntaxError",
     "evalue": "invalid syntax (943155049.py, line 1)",
     "output_type": "error",
     "traceback": [
      "\u001b[1;36m  Cell \u001b[1;32mIn[5], line 1\u001b[1;36m\u001b[0m\n\u001b[1;33m    np.arange? # This is to know about function\u001b[0m\n\u001b[1;37m             ^\u001b[0m\n\u001b[1;31mSyntaxError\u001b[0m\u001b[1;31m:\u001b[0m invalid syntax\n"
     ]
    }
   ],
   "source": [
    "np.arange? # This is to know about function"
   ]
  },
  {
   "cell_type": "code",
   "execution_count": null,
   "id": "52499d1c-639a-42fd-9d17-8f19c762a03e",
   "metadata": {},
   "outputs": [],
   "source": [
    "arr3= np.arange(0,100,4)"
   ]
  },
  {
   "cell_type": "code",
   "execution_count": null,
   "id": "4419c059-39ed-43cd-a09f-8be1e3b069fb",
   "metadata": {},
   "outputs": [],
   "source": [
    "arr3"
   ]
  },
  {
   "cell_type": "code",
   "execution_count": null,
   "id": "8bb01d91-9236-49d4-bb03-1a45d405d2ed",
   "metadata": {},
   "outputs": [],
   "source": [
    "arr4= np.arange(-100,0)\n",
    "arr4"
   ]
  },
  {
   "cell_type": "code",
   "execution_count": null,
   "id": "dba7702c-835c-430a-bae1-a084f2c48156",
   "metadata": {},
   "outputs": [],
   "source": [
    "# To Reshape an Array\n",
    "np.arange(0,9).reshape(3,3)"
   ]
  },
  {
   "cell_type": "markdown",
   "id": "261010f3-8d28-45f6-8d0c-58ad95541e6b",
   "metadata": {},
   "source": [
    "# Python list\n",
    "List comprehension\n",
    "array module(import lib array)\n",
    "numpy array:\n",
    "-> zeros\n",
    "-> Ones\n",
    "-> full\n",
    "-> eye\n",
    "->Arrange\n",
    "-> Reshape\n"
   ]
  },
  {
   "cell_type": "markdown",
   "id": "33099c71-cb46-48e5-a2a9-07c6aa6bd28e",
   "metadata": {},
   "source": [
    "# Diffrence between list and array\n",
    "list : we can put diffrent type elements.\n",
    "Array : we can only put same type of element.\n",
    "list : Required more time\n",
    "Array : Required less time\n",
    "list : It store hetroginious type of data\n",
    "Array : It store homoginious type of data"
   ]
  },
  {
   "cell_type": "code",
   "execution_count": null,
   "id": "cd59d276-7fe5-42a2-a509-b4adc4faf38a",
   "metadata": {},
   "outputs": [],
   "source": [
    "lst = list(range(0,10)) "
   ]
  },
  {
   "cell_type": "code",
   "execution_count": null,
   "id": "51569794-0d04-445e-8613-0653d56c9450",
   "metadata": {},
   "outputs": [],
   "source": [
    "l2 = [x for x in range(0,10)]\n",
    "l2"
   ]
  },
  {
   "cell_type": "code",
   "execution_count": null,
   "id": "823e74da-b30d-4e43-b3d1-ef00312866e0",
   "metadata": {},
   "outputs": [],
   "source": [
    "l3 = [str(x) for x in range(0,10)] \n",
    "l3"
   ]
  },
  {
   "cell_type": "code",
   "execution_count": null,
   "id": "05bb25a3-1d42-4e8b-912f-e1acef68142d",
   "metadata": {},
   "outputs": [],
   "source": [
    "l4 = [x**2 for x in range(0,10)]  # To square given list\n",
    "l4"
   ]
  },
  {
   "cell_type": "code",
   "execution_count": null,
   "id": "97e3c1cc-eb0b-4046-a42b-b4df784dbe3e",
   "metadata": {},
   "outputs": [],
   "source": [
    "l5 = [type(x) for x in range(0,10)]\n",
    "l5"
   ]
  },
  {
   "cell_type": "markdown",
   "id": "de174c3b-a23c-4817-98ef-ab38659e5a3a",
   "metadata": {},
   "source": [
    "# To import Array"
   ]
  },
  {
   "cell_type": "code",
   "execution_count": null,
   "id": "24d538ee-887e-4949-8f32-2d502954ecd1",
   "metadata": {},
   "outputs": [],
   "source": [
    "import array as arr"
   ]
  },
  {
   "cell_type": "code",
   "execution_count": null,
   "id": "899a3710-c948-493c-a7f0-295af302da76",
   "metadata": {},
   "outputs": [],
   "source": [
    "help(array)"
   ]
  },
  {
   "cell_type": "code",
   "execution_count": null,
   "id": "a7bdf308-f5d1-49da-9234-1e98a64c76fe",
   "metadata": {},
   "outputs": [],
   "source": [
    "a = arr.array('i',l2)\n",
    "a"
   ]
  },
  {
   "cell_type": "code",
   "execution_count": null,
   "id": "a1eda0b5-2bfd-4bd1-939d-00ca47403149",
   "metadata": {},
   "outputs": [],
   "source": [
    "arr1 = arr.array('i',[x**2 for x in l2])\n",
    "arr1"
   ]
  },
  {
   "cell_type": "code",
   "execution_count": null,
   "id": "3ed8813a-c840-4355-a0b3-b327037b1925",
   "metadata": {},
   "outputs": [],
   "source": [
    "np.array(l2)"
   ]
  },
  {
   "cell_type": "code",
   "execution_count": null,
   "id": "139e44c4-c3c7-47ae-9eca-20d3c13b58de",
   "metadata": {},
   "outputs": [],
   "source": [
    "np.array([x+3 for x in l2])"
   ]
  },
  {
   "cell_type": "code",
   "execution_count": null,
   "id": "9bdb2ebf-aaa1-4f1e-a3db-db1ebdf33147",
   "metadata": {},
   "outputs": [],
   "source": [
    "np.array([l2],dtype = float)"
   ]
  },
  {
   "cell_type": "code",
   "execution_count": null,
   "id": "60bcd8d5-2967-4744-a417-99b3ee298b18",
   "metadata": {},
   "outputs": [],
   "source": [
    "# 2-D List\n",
    "l2d = [[1,2,3],[3,4,5]]\n",
    "l2d"
   ]
  },
  {
   "cell_type": "code",
   "execution_count": null,
   "id": "fd6c8e20-35f9-4e8f-acb6-8e2fbc62fdf2",
   "metadata": {},
   "outputs": [],
   "source": [
    "l3d =[range(i,i+3) for i in [1,3]]\n",
    "np.array(l3d)"
   ]
  },
  {
   "cell_type": "code",
   "execution_count": null,
   "id": "716ae000-2a0b-403f-ac72-4996b31724cf",
   "metadata": {},
   "outputs": [],
   "source": [
    "l4d =[range(i,i+3) for i in [1,3,2]]\n",
    "np.array(l4d)"
   ]
  },
  {
   "cell_type": "code",
   "execution_count": null,
   "id": "a5aeae95-fcc8-487d-a436-dffc95588ca2",
   "metadata": {},
   "outputs": [],
   "source": [
    "np.zeros([2,4])"
   ]
  },
  {
   "cell_type": "code",
   "execution_count": null,
   "id": "76204aa0-1c10-48b8-b7f9-f557742a4deb",
   "metadata": {},
   "outputs": [],
   "source": [
    "np.zeros([3,4])"
   ]
  },
  {
   "cell_type": "code",
   "execution_count": null,
   "id": "2cb3892d-0df0-4186-a191-ed5136ac2af1",
   "metadata": {},
   "outputs": [],
   "source": [
    "np.ones((2,2))"
   ]
  },
  {
   "cell_type": "code",
   "execution_count": null,
   "id": "d5b93158-7435-493d-bd01-2f99ffa0f125",
   "metadata": {},
   "outputs": [],
   "source": [
    "z = np.zeros((10,10))\n",
    "z"
   ]
  },
  {
   "cell_type": "code",
   "execution_count": null,
   "id": "09b2d5b3-9c36-4948-893c-5e43357c16c0",
   "metadata": {},
   "outputs": [],
   "source": [
    "o = np.ones((10,10))\n",
    "o"
   ]
  },
  {
   "cell_type": "code",
   "execution_count": null,
   "id": "10f063fc-891e-40f7-b3c4-151fc74e759e",
   "metadata": {},
   "outputs": [],
   "source": [
    "z[3:7,3:7]=7\n",
    "z"
   ]
  },
  {
   "cell_type": "code",
   "execution_count": null,
   "id": "0a324554-a14f-4639-872b-fdc13e6cbc0e",
   "metadata": {},
   "outputs": [],
   "source": [
    "z[4:6,4:6]=6\n",
    "z"
   ]
  },
  {
   "cell_type": "code",
   "execution_count": null,
   "id": "34ae0e54-aaa4-42d6-b039-062d5ecb06e9",
   "metadata": {},
   "outputs": [],
   "source": [
    "arr8 = np.full((3,3),3.14)\n",
    "arr8"
   ]
  },
  {
   "cell_type": "raw",
   "id": "737cb1b8-dbc4-48a7-ade6-65cbf08df05a",
   "metadata": {},
   "source": [
    "arr6 = np.ones((3,3))\n",
    "arr6[:]=3.14\n",
    "arr6"
   ]
  },
  {
   "cell_type": "markdown",
   "id": "8164d7dd-9901-4bd2-bdd0-dbf1124ffbd2",
   "metadata": {},
   "source": [
    "# eye() function for identity matrix"
   ]
  },
  {
   "cell_type": "code",
   "execution_count": null,
   "id": "0e9c3239-695c-492e-9bbd-255f9e515a26",
   "metadata": {},
   "outputs": [],
   "source": [
    "np.eye?"
   ]
  },
  {
   "cell_type": "code",
   "execution_count": null,
   "id": "dfe9a68a-e1a5-4805-9c0a-abd3ec53d7dd",
   "metadata": {},
   "outputs": [],
   "source": [
    "np.eye(8)"
   ]
  },
  {
   "cell_type": "code",
   "execution_count": null,
   "id": "68919597-0b3d-47af-9731-598d3d6efa7a",
   "metadata": {},
   "outputs": [],
   "source": [
    "np.transpose(np.eye(8))"
   ]
  },
  {
   "cell_type": "code",
   "execution_count": null,
   "id": "01cd602f-7b78-4026-97a2-ffa880ec2266",
   "metadata": {},
   "outputs": [],
   "source": [
    "arr9=np.full((6,6),64)\n",
    "arr9"
   ]
  },
  {
   "cell_type": "markdown",
   "id": "db088160-76ac-44fc-9026-940645d665fc",
   "metadata": {},
   "source": [
    "Linspace - Linearly spaced elements"
   ]
  },
  {
   "cell_type": "code",
   "execution_count": null,
   "id": "45ee99dd-f881-4cba-90d7-c1c7fb30b844",
   "metadata": {},
   "outputs": [],
   "source": [
    "np.linspace(0,1,5) # starting value,ending value,number of times"
   ]
  },
  {
   "cell_type": "code",
   "execution_count": null,
   "id": "05d4eb53-af24-4665-9f41-a9b674807962",
   "metadata": {},
   "outputs": [],
   "source": [
    "np.linspace(0,10,5)"
   ]
  },
  {
   "cell_type": "code",
   "execution_count": null,
   "id": "6896771a-198e-4331-8f35-a9e79ce43407",
   "metadata": {},
   "outputs": [],
   "source": [
    "np.linspace?"
   ]
  },
  {
   "cell_type": "code",
   "execution_count": null,
   "id": "a6db59cf-3d82-45eb-88af-e35d66c8623e",
   "metadata": {},
   "outputs": [],
   "source": [
    "np.linspace(15,20,20)"
   ]
  },
  {
   "cell_type": "markdown",
   "id": "781d8f78-0997-4f08-bcda-529c4dae88fc",
   "metadata": {},
   "source": [
    "Random Function\n",
    "# btw 0 to 1"
   ]
  },
  {
   "cell_type": "code",
   "execution_count": null,
   "id": "a8ed264f-f8f5-4e27-84f1-55c7c77b131d",
   "metadata": {},
   "outputs": [],
   "source": [
    "np.random?"
   ]
  },
  {
   "cell_type": "code",
   "execution_count": null,
   "id": "e768ea1a-0b59-4aa1-a868-3f7ddaf72b34",
   "metadata": {},
   "outputs": [],
   "source": [
    "np.random.random((3,3))"
   ]
  },
  {
   "cell_type": "markdown",
   "id": "692eaff7-53aa-40fb-8b7f-6327bff4b530",
   "metadata": {},
   "source": [
    "Normal Function - \n",
    "value with mean 0 to 1"
   ]
  },
  {
   "cell_type": "code",
   "execution_count": null,
   "id": "c8b3ba04-0872-4f16-b38d-49c6758bb3aa",
   "metadata": {},
   "outputs": [],
   "source": [
    "np.random.normal?"
   ]
  },
  {
   "cell_type": "code",
   "execution_count": null,
   "id": "865a0097-3c4f-4ff4-8acb-5aa6130360cf",
   "metadata": {},
   "outputs": [],
   "source": [
    "np.random.normal(0,1,10)"
   ]
  },
  {
   "cell_type": "code",
   "execution_count": null,
   "id": "1fc208b2-5f81-4a91-9216-724919c16b8e",
   "metadata": {},
   "outputs": [],
   "source": [
    "np.random.normal(2,2,10)"
   ]
  },
  {
   "cell_type": "markdown",
   "id": "fcc702da-4f48-4fa7-b77a-796a8518245f",
   "metadata": {},
   "source": [
    "Seed Function\n",
    "in this random values will not change"
   ]
  },
  {
   "cell_type": "code",
   "execution_count": null,
   "id": "8837c2e8-a65f-450b-9115-ab07ae20a7d7",
   "metadata": {},
   "outputs": [],
   "source": [
    "np.random.seed(5)\n",
    "np.random.random(10)"
   ]
  },
  {
   "cell_type": "code",
   "execution_count": null,
   "id": "d10b51c9-f10c-4a64-9658-1b25a18ec14f",
   "metadata": {},
   "outputs": [],
   "source": [
    "np.random.randn?"
   ]
  },
  {
   "cell_type": "code",
   "execution_count": null,
   "id": "47bdea91-7aa0-470c-aff7-60f94870d7c6",
   "metadata": {},
   "outputs": [],
   "source": [
    "np.random.randn(2,4)"
   ]
  },
  {
   "cell_type": "markdown",
   "id": "b92aaee7-085a-40cb-9560-956727618899",
   "metadata": {},
   "source": [
    "Operation on Numpy"
   ]
  },
  {
   "cell_type": "code",
   "execution_count": null,
   "id": "68204e5d-10ab-47cd-8efc-a94a97e31863",
   "metadata": {},
   "outputs": [],
   "source": [
    "arr1=np.random.randint(0,100,20)\n",
    "arr1"
   ]
  },
  {
   "cell_type": "code",
   "execution_count": null,
   "id": "dabc7f44-694b-4928-adc8-53a9e8dbc97f",
   "metadata": {},
   "outputs": [],
   "source": [
    "arr1.ndim  # To check number of dimension"
   ]
  },
  {
   "cell_type": "code",
   "execution_count": null,
   "id": "bb6e4d88-dab1-4360-90c1-06fbba2cad46",
   "metadata": {},
   "outputs": [],
   "source": [
    "arr1.size # To check total number of elements"
   ]
  },
  {
   "cell_type": "code",
   "execution_count": null,
   "id": "959fdccf-d920-4c1e-b298-500ffc976b46",
   "metadata": {},
   "outputs": [],
   "source": [
    "arr1.shape # To check shape"
   ]
  },
  {
   "cell_type": "code",
   "execution_count": null,
   "id": "96c50620-de81-47e4-b930-f8ccd4de739c",
   "metadata": {},
   "outputs": [],
   "source": [
    "arr1.dtype # To check dtype of array"
   ]
  },
  {
   "cell_type": "markdown",
   "id": "ae38239f-aa00-4944-82c2-af4452cbad17",
   "metadata": {},
   "source": [
    "Array Indexing"
   ]
  },
  {
   "cell_type": "code",
   "execution_count": null,
   "id": "15fb4d6a-279a-4691-9887-0a7eb9d923c3",
   "metadata": {},
   "outputs": [],
   "source": [
    "arr=np.random.randint(0,40,10)\n",
    "arr"
   ]
  },
  {
   "cell_type": "code",
   "execution_count": null,
   "id": "b5bbc4be-cef9-48c4-ac94-1989cdf95ae0",
   "metadata": {},
   "outputs": [],
   "source": [
    "arr[:4]"
   ]
  },
  {
   "cell_type": "code",
   "execution_count": null,
   "id": "8eb7a251-6c4c-4614-a00c-75447274d2a6",
   "metadata": {},
   "outputs": [],
   "source": [
    "arr[-5]"
   ]
  },
  {
   "cell_type": "code",
   "execution_count": null,
   "id": "4806adb6-92f8-45ad-9f9c-72498b336632",
   "metadata": {},
   "outputs": [],
   "source": [
    "arr[3]=10"
   ]
  },
  {
   "cell_type": "code",
   "execution_count": null,
   "id": "b701c336-4546-4810-8184-a763027a2083",
   "metadata": {},
   "outputs": [],
   "source": [
    "arr"
   ]
  },
  {
   "cell_type": "code",
   "execution_count": null,
   "id": "2261d4a4-d4a3-435e-901b-2fbd4d6098a0",
   "metadata": {},
   "outputs": [],
   "source": [
    "arr[2]=9\n",
    "arr"
   ]
  },
  {
   "cell_type": "markdown",
   "id": "612c897e-0e56-424d-b6b4-05ac997cce66",
   "metadata": {},
   "source": [
    "# Numpy Assigments"
   ]
  },
  {
   "cell_type": "code",
   "execution_count": null,
   "id": "25b14a8e-242c-40dd-82c9-1aa994583fbf",
   "metadata": {},
   "outputs": [],
   "source": [
    "# Q1\n",
    "a=np.array([1,2,3])\n",
    "a"
   ]
  },
  {
   "cell_type": "code",
   "execution_count": null,
   "id": "58b84e16-237c-40e9-920d-39ccbe74e123",
   "metadata": {},
   "outputs": [],
   "source": [
    "b=np.random.randint(1,10,(2,2))\n",
    "b"
   ]
  },
  {
   "cell_type": "code",
   "execution_count": null,
   "id": "2df0ab52-c8c2-4cf1-947a-0414e62788b7",
   "metadata": {},
   "outputs": [],
   "source": [
    "c=np.arange(0,27).reshape(3,3,3)\n",
    "c"
   ]
  },
  {
   "cell_type": "code",
   "execution_count": null,
   "id": "73b3213c-1269-41bd-b4da-dead982c9a95",
   "metadata": {},
   "outputs": [],
   "source": [
    "#Q2\n",
    "c.dtype"
   ]
  },
  {
   "cell_type": "code",
   "execution_count": null,
   "id": "f567a634-a65c-4e50-bad2-53a360264a14",
   "metadata": {},
   "outputs": [],
   "source": [
    "# Q3\n",
    "a.shape\n",
    "a.ndim"
   ]
  },
  {
   "cell_type": "code",
   "execution_count": null,
   "id": "93fa47a1-7959-4435-a128-0dc7fb6eff6a",
   "metadata": {},
   "outputs": [],
   "source": [
    "b.shape\n",
    "b.ndim"
   ]
  },
  {
   "cell_type": "code",
   "execution_count": null,
   "id": "f678df46-771f-4ee6-9bf4-0cc34c58d1d9",
   "metadata": {},
   "outputs": [],
   "source": [
    "c.shape\n",
    "c.ndim"
   ]
  },
  {
   "cell_type": "code",
   "execution_count": null,
   "id": "06f6d0e9-ea47-46c0-81ba-bdaf17f1b829",
   "metadata": {},
   "outputs": [],
   "source": [
    "# Q4\n",
    "d = np.zeros(12)\n",
    "d"
   ]
  },
  {
   "cell_type": "code",
   "execution_count": null,
   "id": "6b76bc45-45f4-4d01-b8dc-dfbda1e5deb6",
   "metadata": {},
   "outputs": [],
   "source": [
    "# Q5\n",
    "e = np.ones((2,2))\n",
    "e"
   ]
  },
  {
   "cell_type": "code",
   "execution_count": null,
   "id": "3d4df970-c137-4465-833e-ba5c57c5093c",
   "metadata": {},
   "outputs": [],
   "source": [
    "# Q6\n",
    "np.random.seed(10)\n",
    "math = np.random.randint(0,100,20)\n",
    "math"
   ]
  },
  {
   "cell_type": "code",
   "execution_count": null,
   "id": "d85c74d7-2110-499c-8094-bfa6863a9380",
   "metadata": {},
   "outputs": [],
   "source": [
    "# Q12\n",
    "np.eye(4,4)+5"
   ]
  },
  {
   "cell_type": "code",
   "execution_count": null,
   "id": "2e0198ae-617b-4887-9a70-224752e8722c",
   "metadata": {},
   "outputs": [],
   "source": [
    "# Q13\n",
    "np.arange?"
   ]
  },
  {
   "cell_type": "code",
   "execution_count": null,
   "id": "6da2c7c0-32bc-4f81-b133-88621e19bace",
   "metadata": {},
   "outputs": [],
   "source": [
    "# Q18\n",
    "g=np.arange(0,25).reshape(5,5)\n",
    "g"
   ]
  },
  {
   "cell_type": "markdown",
   "id": "c68929f1-2bdd-4d30-bb94-5a7c51057bb4",
   "metadata": {},
   "source": [
    "# Indexing"
   ]
  },
  {
   "cell_type": "code",
   "execution_count": null,
   "id": "d4caf24c-001a-4c30-a22f-7b77629f2f40",
   "metadata": {},
   "outputs": [],
   "source": [
    "arr=[1,2,3,4,5,6]\n",
    "arr"
   ]
  },
  {
   "cell_type": "code",
   "execution_count": null,
   "id": "d2456907-b6ec-42e5-8143-4e6eb19a5443",
   "metadata": {},
   "outputs": [],
   "source": [
    "arr[:3]"
   ]
  },
  {
   "cell_type": "code",
   "execution_count": null,
   "id": "cca1e84b-049b-48b2-a403-32018793d1b6",
   "metadata": {},
   "outputs": [],
   "source": [
    "arr[::2]"
   ]
  },
  {
   "cell_type": "markdown",
   "id": "8e767467-9e91-4f66-80f1-35d13394fa48",
   "metadata": {},
   "source": [
    "# To reverse the array in order"
   ]
  },
  {
   "cell_type": "code",
   "execution_count": null,
   "id": "8439ec98-90a9-411b-bb81-4248ab3342f5",
   "metadata": {},
   "outputs": [],
   "source": [
    "arr[::-1]"
   ]
  },
  {
   "cell_type": "code",
   "execution_count": 8,
   "id": "c118624e-8b9c-494e-b1c7-83520fd8f799",
   "metadata": {},
   "outputs": [
    {
     "data": {
      "text/plain": [
       "array([[29, 91, 88,  8, 48],\n",
       "       [40, 38, 16, 79,  8],\n",
       "       [64,  6,  1, 15, 23],\n",
       "       [67, 46, 39, 10, 27],\n",
       "       [90, 89, 89, 56, 51]], dtype=int32)"
      ]
     },
     "execution_count": 8,
     "metadata": {},
     "output_type": "execute_result"
    }
   ],
   "source": [
    "arr2 = np.random.randint(0,100,(5,5))\n",
    "arr2"
   ]
  },
  {
   "cell_type": "code",
   "execution_count": 9,
   "id": "8f80f420-3540-47a9-972b-c46203e047d7",
   "metadata": {},
   "outputs": [
    {
     "data": {
      "text/plain": [
       "array([[91, 88],\n",
       "       [38, 16],\n",
       "       [ 6,  1]], dtype=int32)"
      ]
     },
     "execution_count": 9,
     "metadata": {},
     "output_type": "execute_result"
    }
   ],
   "source": [
    "arr2[0:3,1:3]"
   ]
  },
  {
   "cell_type": "code",
   "execution_count": 15,
   "id": "3b1b2ac3-3a9f-48bb-856d-5c2ad90fc342",
   "metadata": {},
   "outputs": [
    {
     "data": {
      "text/plain": [
       "array([[ 6,  1],\n",
       "       [46, 39]], dtype=int32)"
      ]
     },
     "execution_count": 15,
     "metadata": {},
     "output_type": "execute_result"
    }
   ],
   "source": [
    "arr2[2:4,1:3]"
   ]
  },
  {
   "cell_type": "code",
   "execution_count": 39,
   "id": "1077b503-24ea-48a0-972f-634b1322b40c",
   "metadata": {},
   "outputs": [
    {
     "data": {
      "text/plain": [
       "array([[0., 0., 0., 0., 0., 0., 0., 0.],\n",
       "       [0., 0., 0., 0., 0., 0., 0., 0.],\n",
       "       [0., 0., 0., 0., 0., 0., 0., 0.],\n",
       "       [0., 0., 0., 0., 0., 0., 0., 0.],\n",
       "       [0., 0., 0., 0., 0., 0., 0., 0.],\n",
       "       [0., 0., 0., 0., 0., 0., 0., 0.],\n",
       "       [0., 0., 0., 0., 0., 0., 0., 0.],\n",
       "       [0., 0., 0., 0., 0., 0., 0., 0.]])"
      ]
     },
     "execution_count": 39,
     "metadata": {},
     "output_type": "execute_result"
    }
   ],
   "source": [
    "arr4 = np.zeros((8,8))\n",
    "arr4"
   ]
  },
  {
   "cell_type": "code",
   "execution_count": 44,
   "id": "23b18ff2-47b1-483a-abef-7503a737894a",
   "metadata": {},
   "outputs": [
    {
     "data": {
      "text/plain": [
       "array([[1., 1., 1., 1., 1., 1., 1., 1.],\n",
       "       [1., 1., 1., 1., 1., 1., 1., 1.],\n",
       "       [1., 1., 1., 1., 1., 1., 1., 1.],\n",
       "       [1., 1., 1., 1., 1., 1., 1., 1.],\n",
       "       [1., 1., 1., 1., 1., 1., 1., 1.],\n",
       "       [1., 1., 1., 1., 1., 1., 1., 1.],\n",
       "       [1., 1., 1., 1., 1., 1., 1., 1.],\n",
       "       [1., 1., 1., 1., 1., 1., 1., 1.]])"
      ]
     },
     "execution_count": 44,
     "metadata": {},
     "output_type": "execute_result"
    }
   ],
   "source": [
    "arr4[0:8]=1\n",
    "arr4"
   ]
  },
  {
   "cell_type": "markdown",
   "id": "74db613e-4fa3-48f8-bc59-d06c19d125c3",
   "metadata": {},
   "source": [
    "# Shallow copy and Deep copy"
   ]
  },
  {
   "cell_type": "markdown",
   "id": "9bc4e6eb-293b-4977-afc0-984800c7f69a",
   "metadata": {},
   "source": [
    "# Shallow copy"
   ]
  },
  {
   "cell_type": "code",
   "execution_count": 54,
   "id": "7ee86490-e44a-49f3-97cb-eab86b561c5d",
   "metadata": {},
   "outputs": [
    {
     "data": {
      "text/plain": [
       "array([[95, 11, 81, 70, 63],\n",
       "       [87, 75,  9, 77, 40],\n",
       "       [ 4, 63, 40, 60, 92],\n",
       "       [64,  5, 12, 93, 40],\n",
       "       [49, 83,  8, 29, 59]], dtype=int32)"
      ]
     },
     "execution_count": 54,
     "metadata": {},
     "output_type": "execute_result"
    }
   ],
   "source": [
    "np.random.seed(101)\n",
    "arr5 = np.random.randint(0,100,(5,5))\n",
    "arr5"
   ]
  },
  {
   "cell_type": "code",
   "execution_count": 55,
   "id": "59ae9f89-174a-40f8-99ab-d77ffea09d49",
   "metadata": {},
   "outputs": [
    {
     "data": {
      "text/plain": [
       "array([[ 4, 63, 40],\n",
       "       [64,  5, 12],\n",
       "       [49, 83,  8]], dtype=int32)"
      ]
     },
     "execution_count": 55,
     "metadata": {},
     "output_type": "execute_result"
    }
   ],
   "source": [
    "arr6 = arr5[2:5,0:3]\n",
    "arr6"
   ]
  },
  {
   "cell_type": "code",
   "execution_count": 58,
   "id": "0b17c636-eb16-4c2f-9489-c530f032528b",
   "metadata": {},
   "outputs": [
    {
     "data": {
      "text/plain": [
       "array([[ 4, 63, 40],\n",
       "       [64,  5, 12],\n",
       "       [49, 83, 19]], dtype=int32)"
      ]
     },
     "execution_count": 58,
     "metadata": {},
     "output_type": "execute_result"
    }
   ],
   "source": [
    "arr6[2,2]=19\n",
    "arr6"
   ]
  },
  {
   "cell_type": "code",
   "execution_count": 59,
   "id": "9df46b8b-e728-4047-82a4-11565c5eb3a0",
   "metadata": {},
   "outputs": [
    {
     "data": {
      "text/plain": [
       "array([[95, 11, 81, 70, 63],\n",
       "       [87, 75,  9, 77, 40],\n",
       "       [ 4, 63, 40, 60, 92],\n",
       "       [64,  5, 12, 93, 40],\n",
       "       [49, 83, 19, 29, 59]], dtype=int32)"
      ]
     },
     "execution_count": 59,
     "metadata": {},
     "output_type": "execute_result"
    }
   ],
   "source": [
    "arr5 # here in main matrix number is also changed when it is changed in sub part \"arr6\""
   ]
  },
  {
   "cell_type": "markdown",
   "id": "75089180-7db7-42bc-9993-410868ad57d6",
   "metadata": {},
   "source": [
    "# Deep copy"
   ]
  },
  {
   "cell_type": "code",
   "execution_count": 63,
   "id": "6da7486b-fdfe-40d8-a715-5ca6ff987011",
   "metadata": {},
   "outputs": [
    {
     "data": {
      "text/plain": [
       "array([[40, 60, 92],\n",
       "       [12, 93, 40],\n",
       "       [19, 29, 59]], dtype=int32)"
      ]
     },
     "execution_count": 63,
     "metadata": {},
     "output_type": "execute_result"
    }
   ],
   "source": [
    "arr7=arr5[2:5,2:5].copy()\n",
    "arr7"
   ]
  },
  {
   "cell_type": "code",
   "execution_count": 68,
   "id": "043ebc1a-f557-44c6-83b7-4ab42d1ec606",
   "metadata": {},
   "outputs": [
    {
     "data": {
      "text/plain": [
       "array([[40, 60, 92],\n",
       "       [12, 93, 40],\n",
       "       [19, 40, 40]], dtype=int32)"
      ]
     },
     "execution_count": 68,
     "metadata": {},
     "output_type": "execute_result"
    }
   ],
   "source": [
    "arr7[2,1]=40\n",
    "arr7"
   ]
  },
  {
   "cell_type": "code",
   "execution_count": 69,
   "id": "1af863e3-f928-4e21-a66c-4904fe471d56",
   "metadata": {},
   "outputs": [
    {
     "data": {
      "text/plain": [
       "array([[40, 60, 92],\n",
       "       [12, 93, 40],\n",
       "       [19, 40, 40]], dtype=int32)"
      ]
     },
     "execution_count": 69,
     "metadata": {},
     "output_type": "execute_result"
    }
   ],
   "source": [
    "arr7"
   ]
  },
  {
   "cell_type": "code",
   "execution_count": 70,
   "id": "1e23402d-9c23-4cfd-8302-383eac023f90",
   "metadata": {},
   "outputs": [
    {
     "data": {
      "text/plain": [
       "array([[95, 11, 81, 70, 63],\n",
       "       [87, 75,  9, 77, 40],\n",
       "       [ 4, 63, 40, 60, 92],\n",
       "       [64,  5, 12, 93, 40],\n",
       "       [49, 83, 19, 29, 59]], dtype=int32)"
      ]
     },
     "execution_count": 70,
     "metadata": {},
     "output_type": "execute_result"
    }
   ],
   "source": [
    "arr5"
   ]
  },
  {
   "cell_type": "code",
   "execution_count": 76,
   "id": "b97901b5-b2d6-401d-835d-8dea67b3a553",
   "metadata": {},
   "outputs": [
    {
     "data": {
      "text/plain": [
       "array([[0],\n",
       "       [1],\n",
       "       [2]])"
      ]
     },
     "execution_count": 76,
     "metadata": {},
     "output_type": "execute_result"
    }
   ],
   "source": [
    "arrr = np.arange(0,3) # making 1D array horizontaly\n",
    "arrr.reshape(3,1)# makin same array verticaly"
   ]
  },
  {
   "cell_type": "code",
   "execution_count": 92,
   "id": "bb6d8e3a-f279-4e06-abd4-1827f0076143",
   "metadata": {},
   "outputs": [
    {
     "data": {
      "text/plain": [
       "array([[ 1,  2,  3,  4],\n",
       "       [ 5,  6,  7,  8],\n",
       "       [ 9, 10, 11, 12],\n",
       "       [13, 14, 15, 16]])"
      ]
     },
     "execution_count": 92,
     "metadata": {},
     "output_type": "execute_result"
    }
   ],
   "source": [
    "arrrr=np.arange(1,17) # making an array\n",
    "b = arrrr.reshape(4,4) # making in a 2D array\n",
    "b"
   ]
  },
  {
   "cell_type": "code",
   "execution_count": 97,
   "id": "36b201d9-35bb-498b-8822-186901884f1c",
   "metadata": {},
   "outputs": [
    {
     "data": {
      "text/plain": [
       "array([[ 1,  2,  3,  4,  5,  6,  7,  8,  9, 10, 11, 12, 13, 14, 15, 16]])"
      ]
     },
     "execution_count": 97,
     "metadata": {},
     "output_type": "execute_result"
    }
   ],
   "source": [
    "b.reshape(1,16) #then again reshape in 1D array"
   ]
  },
  {
   "cell_type": "code",
   "execution_count": 102,
   "id": "c80f8ee1-98b0-4b5d-8a32-02cf6d9e1930",
   "metadata": {},
   "outputs": [
    {
     "data": {
      "text/plain": [
       "array([ 1,  5,  9, 13,  2,  6, 10, 14,  3,  7, 11, 15,  4,  8, 12, 16])"
      ]
     },
     "execution_count": 102,
     "metadata": {},
     "output_type": "execute_result"
    }
   ],
   "source": [
    "# returning ravel array\n",
    "#np.ravel?\n",
    "np.ravel(b,order = \"F\")"
   ]
  },
  {
   "cell_type": "code",
   "execution_count": 104,
   "id": "10bfa0c1-cde0-4d8e-934c-2065adfa2753",
   "metadata": {},
   "outputs": [
    {
     "name": "stdout",
     "output_type": "stream",
     "text": [
      "Object `np.flatten` not found.\n"
     ]
    }
   ],
   "source": [
    "# returning Flatten\n",
    "np.flatten?"
   ]
  },
  {
   "cell_type": "code",
   "execution_count": 110,
   "id": "b7a3ed95-4927-497a-8686-a4e303f97643",
   "metadata": {},
   "outputs": [
    {
     "data": {
      "text/plain": [
       "array([ 1,  2,  3,  4,  5,  6,  7,  8,  9, 10, 11, 12, 13, 14, 15, 16])"
      ]
     },
     "execution_count": 110,
     "metadata": {},
     "output_type": "execute_result"
    }
   ],
   "source": [
    "c = b.flatten()\n",
    "c"
   ]
  },
  {
   "cell_type": "code",
   "execution_count": 111,
   "id": "6eca54b5-fe95-4e2c-bb22-394d257b6afe",
   "metadata": {},
   "outputs": [
    {
     "data": {
      "text/plain": [
       "array([[ 1],\n",
       "       [ 2],\n",
       "       [ 3],\n",
       "       [ 4],\n",
       "       [ 5],\n",
       "       [ 6],\n",
       "       [ 7],\n",
       "       [ 8],\n",
       "       [ 9],\n",
       "       [10],\n",
       "       [11],\n",
       "       [12],\n",
       "       [13],\n",
       "       [14],\n",
       "       [15],\n",
       "       [16]])"
      ]
     },
     "execution_count": 111,
     "metadata": {},
     "output_type": "execute_result"
    }
   ],
   "source": [
    "c[:,np.newaxis]"
   ]
  },
  {
   "cell_type": "markdown",
   "id": "0cee06a5-3a02-4814-9405-16c53a6c1c50",
   "metadata": {},
   "source": [
    "# concatination or joining of Two Array"
   ]
  },
  {
   "cell_type": "code",
   "execution_count": 112,
   "id": "51490f98-e41e-42ef-b81d-80c064306d7f",
   "metadata": {},
   "outputs": [
    {
     "data": {
      "text/plain": [
       "\u001b[1;31mCall signature:\u001b[0m  \u001b[0mnp\u001b[0m\u001b[1;33m.\u001b[0m\u001b[0mconcatenate\u001b[0m\u001b[1;33m(\u001b[0m\u001b[1;33m*\u001b[0m\u001b[0margs\u001b[0m\u001b[1;33m,\u001b[0m \u001b[1;33m**\u001b[0m\u001b[0mkwargs\u001b[0m\u001b[1;33m)\u001b[0m\u001b[1;33m\u001b[0m\u001b[1;33m\u001b[0m\u001b[0m\n",
       "\u001b[1;31mType:\u001b[0m            _ArrayFunctionDispatcher\n",
       "\u001b[1;31mString form:\u001b[0m     <built-in function concatenate>\n",
       "\u001b[1;31mDocstring:\u001b[0m      \n",
       "concatenate(\n",
       "    (a1, a2, ...), \n",
       "    axis=0, \n",
       "    out=None, \n",
       "    dtype=None, \n",
       "    casting=\"same_kind\"\n",
       ")\n",
       "\n",
       "Join a sequence of arrays along an existing axis.\n",
       "\n",
       "Parameters\n",
       "----------\n",
       "a1, a2, ... : sequence of array_like\n",
       "    The arrays must have the same shape, except in the dimension\n",
       "    corresponding to `axis` (the first, by default).\n",
       "axis : int, optional\n",
       "    The axis along which the arrays will be joined.  If axis is None,\n",
       "    arrays are flattened before use.  Default is 0.\n",
       "out : ndarray, optional\n",
       "    If provided, the destination to place the result. The shape must be\n",
       "    correct, matching that of what concatenate would have returned if no\n",
       "    out argument were specified.\n",
       "dtype : str or dtype\n",
       "    If provided, the destination array will have this dtype. Cannot be\n",
       "    provided together with `out`.\n",
       "\n",
       "    .. versionadded:: 1.20.0\n",
       "\n",
       "casting : {'no', 'equiv', 'safe', 'same_kind', 'unsafe'}, optional\n",
       "    Controls what kind of data casting may occur. Defaults to 'same_kind'.\n",
       "    For a description of the options, please see :term:`casting`.\n",
       "    \n",
       "    .. versionadded:: 1.20.0\n",
       "\n",
       "Returns\n",
       "-------\n",
       "res : ndarray\n",
       "    The concatenated array.\n",
       "\n",
       "See Also\n",
       "--------\n",
       "ma.concatenate : Concatenate function that preserves input masks.\n",
       "array_split : Split an array into multiple sub-arrays of equal or\n",
       "              near-equal size.\n",
       "split : Split array into a list of multiple sub-arrays of equal size.\n",
       "hsplit : Split array into multiple sub-arrays horizontally (column wise).\n",
       "vsplit : Split array into multiple sub-arrays vertically (row wise).\n",
       "dsplit : Split array into multiple sub-arrays along the 3rd axis (depth).\n",
       "stack : Stack a sequence of arrays along a new axis.\n",
       "block : Assemble arrays from blocks.\n",
       "hstack : Stack arrays in sequence horizontally (column wise).\n",
       "vstack : Stack arrays in sequence vertically (row wise).\n",
       "dstack : Stack arrays in sequence depth wise (along third dimension).\n",
       "column_stack : Stack 1-D arrays as columns into a 2-D array.\n",
       "\n",
       "Notes\n",
       "-----\n",
       "When one or more of the arrays to be concatenated is a MaskedArray,\n",
       "this function will return a MaskedArray object instead of an ndarray,\n",
       "but the input masks are *not* preserved. In cases where a MaskedArray\n",
       "is expected as input, use the ma.concatenate function from the masked\n",
       "array module instead.\n",
       "\n",
       "Examples\n",
       "--------\n",
       ">>> a = np.array([[1, 2], [3, 4]])\n",
       ">>> b = np.array([[5, 6]])\n",
       ">>> np.concatenate((a, b), axis=0)\n",
       "array([[1, 2],\n",
       "       [3, 4],\n",
       "       [5, 6]])\n",
       ">>> np.concatenate((a, b.T), axis=1)\n",
       "array([[1, 2, 5],\n",
       "       [3, 4, 6]])\n",
       ">>> np.concatenate((a, b), axis=None)\n",
       "array([1, 2, 3, 4, 5, 6])\n",
       "\n",
       "This function will not preserve masking of MaskedArray inputs.\n",
       "\n",
       ">>> a = np.ma.arange(3)\n",
       ">>> a[1] = np.ma.masked\n",
       ">>> b = np.arange(2, 5)\n",
       ">>> a\n",
       "masked_array(data=[0, --, 2],\n",
       "             mask=[False,  True, False],\n",
       "       fill_value=999999)\n",
       ">>> b\n",
       "array([2, 3, 4])\n",
       ">>> np.concatenate([a, b])\n",
       "masked_array(data=[0, 1, 2, 2, 3, 4],\n",
       "             mask=False,\n",
       "       fill_value=999999)\n",
       ">>> np.ma.concatenate([a, b])\n",
       "masked_array(data=[0, --, 2, 2, 3, 4],\n",
       "             mask=[False,  True, False, False, False, False],\n",
       "       fill_value=999999)\n",
       "\u001b[1;31mClass docstring:\u001b[0m\n",
       "Class to wrap functions with checks for __array_function__ overrides.\n",
       "\n",
       "All arguments are required, and can only be passed by position.\n",
       "\n",
       "Parameters\n",
       "----------\n",
       "dispatcher : function or None\n",
       "    The dispatcher function that returns a single sequence-like object\n",
       "    of all arguments relevant.  It must have the same signature (except\n",
       "    the default values) as the actual implementation.\n",
       "    If ``None``, this is a ``like=`` dispatcher and the\n",
       "    ``_ArrayFunctionDispatcher`` must be called with ``like`` as the\n",
       "    first (additional and positional) argument.\n",
       "implementation : function\n",
       "    Function that implements the operation on NumPy arrays without\n",
       "    overrides.  Arguments passed calling the ``_ArrayFunctionDispatcher``\n",
       "    will be forwarded to this (and the ``dispatcher``) as if using\n",
       "    ``*args, **kwargs``.\n",
       "\n",
       "Attributes\n",
       "----------\n",
       "_implementation : function\n",
       "    The original implementation passed in."
      ]
     },
     "metadata": {},
     "output_type": "display_data"
    }
   ],
   "source": [
    "np.concatenate?"
   ]
  },
  {
   "cell_type": "code",
   "execution_count": 114,
   "id": "98dd9ace-89b3-41e3-adc7-99481faa3572",
   "metadata": {},
   "outputs": [
    {
     "data": {
      "text/plain": [
       "array([[40, 60, 92],\n",
       "       [12, 93, 40],\n",
       "       [19, 40, 40],\n",
       "       [ 4, 63, 40],\n",
       "       [64,  5, 12],\n",
       "       [49, 83, 19]], dtype=int32)"
      ]
     },
     "execution_count": 114,
     "metadata": {},
     "output_type": "execute_result"
    }
   ],
   "source": [
    "np.concatenate([arr7,arr6])"
   ]
  },
  {
   "cell_type": "code",
   "execution_count": 116,
   "id": "c49bc20f-7a61-4c58-9d5f-ab49dc848c4d",
   "metadata": {},
   "outputs": [
    {
     "data": {
      "text/plain": [
       "array([[40, 60, 92,  4, 63, 40],\n",
       "       [12, 93, 40, 64,  5, 12],\n",
       "       [19, 40, 40, 49, 83, 19]], dtype=int32)"
      ]
     },
     "execution_count": 116,
     "metadata": {},
     "output_type": "execute_result"
    }
   ],
   "source": [
    "np.concatenate((arr7,arr6),axis = 1) # axis is used to specify row and coloum 0 is for Row and 1 for coloum"
   ]
  },
  {
   "cell_type": "code",
   "execution_count": null,
   "id": "f4186f58-1497-42b1-a86b-ceff46b0e600",
   "metadata": {},
   "outputs": [],
   "source": [
    "b "
   ]
  }
 ],
 "metadata": {
  "kernelspec": {
   "display_name": "Python 3 (ipykernel)",
   "language": "python",
   "name": "python3"
  },
  "language_info": {
   "codemirror_mode": {
    "name": "ipython",
    "version": 3
   },
   "file_extension": ".py",
   "mimetype": "text/x-python",
   "name": "python",
   "nbconvert_exporter": "python",
   "pygments_lexer": "ipython3",
   "version": "3.12.3"
  }
 },
 "nbformat": 4,
 "nbformat_minor": 5
}
