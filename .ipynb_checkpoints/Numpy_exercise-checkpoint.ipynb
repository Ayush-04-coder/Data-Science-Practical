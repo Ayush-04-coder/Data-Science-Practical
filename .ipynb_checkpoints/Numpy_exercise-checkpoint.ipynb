{
 "cells": [
  {
   "cell_type": "code",
   "execution_count": 1,
   "id": "2aefb865-b482-449c-8234-72c1d53497d8",
   "metadata": {},
   "outputs": [],
   "source": [
    "# Numpy Exercise1"
   ]
  },
  {
   "cell_type": "code",
   "execution_count": 2,
   "id": "605e6415-e6a8-47ca-8dc7-e58aff13959c",
   "metadata": {},
   "outputs": [],
   "source": [
    "import numpy as np"
   ]
  },
  {
   "cell_type": "code",
   "execution_count": 3,
   "id": "c0d27fac-81a8-47c9-8386-4ea77b5e5df7",
   "metadata": {},
   "outputs": [
    {
     "data": {
      "text/plain": [
       "array([[0., 0., 0., 0., 0., 0., 0., 0., 0., 0.]])"
      ]
     },
     "execution_count": 3,
     "metadata": {},
     "output_type": "execute_result"
    }
   ],
   "source": [
    "# 2.Create an array of 10 zeros  \n",
    "a = np.zeros((1,10))\n",
    "a"
   ]
  },
  {
   "cell_type": "code",
   "execution_count": 4,
   "id": "d3932da9-5a45-47d9-adee-5557ee7d4e58",
   "metadata": {},
   "outputs": [
    {
     "data": {
      "text/plain": [
       "array([[1., 1., 1., 1., 1., 1., 1., 1., 1., 1.]])"
      ]
     },
     "execution_count": 4,
     "metadata": {},
     "output_type": "execute_result"
    }
   ],
   "source": [
    "# 3.Create an array of 10 ones \n",
    "np.ones((1,10))"
   ]
  },
  {
   "cell_type": "code",
   "execution_count": 5,
   "id": "efbfa06d-f69d-41eb-a851-14a908c5a47a",
   "metadata": {},
   "outputs": [
    {
     "data": {
      "text/plain": [
       "array([10, 11, 12, 13, 14, 15, 16, 17, 18, 19, 20, 21, 22, 23, 24, 25, 26,\n",
       "       27, 28, 29, 30, 31, 32, 33, 34, 35, 36, 37, 38, 39, 40, 41, 42, 43,\n",
       "       44, 45, 46, 47, 48, 49, 50])"
      ]
     },
     "execution_count": 5,
     "metadata": {},
     "output_type": "execute_result"
    }
   ],
   "source": [
    "# 4.Create an array of the integers from 10 to 50\n",
    "np.arange(10,51)"
   ]
  },
  {
   "cell_type": "code",
   "execution_count": 6,
   "id": "efb32ef0-f172-45cd-99d8-8a18cd82858b",
   "metadata": {},
   "outputs": [
    {
     "data": {
      "text/plain": [
       "array([10, 12, 14, 16, 18, 20, 22, 24, 26, 28, 30, 32, 34, 36, 38, 40, 42,\n",
       "       44, 46, 48, 50])"
      ]
     },
     "execution_count": 6,
     "metadata": {},
     "output_type": "execute_result"
    }
   ],
   "source": [
    "# 5.Create an array of all the even integers from 10 to 50\n",
    "np.arange(10,51,2)"
   ]
  },
  {
   "cell_type": "code",
   "execution_count": 7,
   "id": "d935469e-b3e9-42f1-afc2-1cd5cc57252f",
   "metadata": {},
   "outputs": [
    {
     "data": {
      "text/plain": [
       "array([[0, 1, 2],\n",
       "       [3, 4, 5],\n",
       "       [6, 7, 8]])"
      ]
     },
     "execution_count": 7,
     "metadata": {},
     "output_type": "execute_result"
    }
   ],
   "source": [
    "# 6.Create a 3x3 matrix with values ranging from 0 to 8\n",
    "np.arange(0,9).reshape(3,3)"
   ]
  },
  {
   "cell_type": "code",
   "execution_count": 8,
   "id": "8538aa8a-32be-4534-9a38-8e9d64c979b9",
   "metadata": {},
   "outputs": [
    {
     "data": {
      "text/plain": [
       "array([[1., 0., 0.],\n",
       "       [0., 1., 0.],\n",
       "       [0., 0., 1.]])"
      ]
     },
     "execution_count": 8,
     "metadata": {},
     "output_type": "execute_result"
    }
   ],
   "source": [
    "# 7. Create a 3x3 identity matrix \n",
    "np.eye(3)"
   ]
  },
  {
   "cell_type": "code",
   "execution_count": 9,
   "id": "daa4fad9-f3e2-4ad0-a912-13e3daa25f65",
   "metadata": {},
   "outputs": [
    {
     "data": {
      "text/plain": [
       "0"
      ]
     },
     "execution_count": 9,
     "metadata": {},
     "output_type": "execute_result"
    }
   ],
   "source": [
    "# 8. use NumPy to generate a random number between 0 to 1\n",
    "#np.random.seed(100)\n",
    "np.random.randint(0,1)"
   ]
  },
  {
   "cell_type": "code",
   "execution_count": 10,
   "id": "2f56dee4-8deb-4e91-bfcb-3252d8724320",
   "metadata": {},
   "outputs": [
    {
     "data": {
      "text/plain": [
       "array([ 1.20776970e+00,  8.81873927e-01,  2.13552567e-01, -1.07957974e+00,\n",
       "        1.33002443e+00,  1.07341463e+00,  1.56525220e-01,  1.64767474e+00,\n",
       "        5.06243459e-04,  1.73254987e+00, -3.14050253e-01,  2.85624086e+00,\n",
       "       -4.51684056e-01,  7.89489466e-01,  9.23490236e-01,  7.98930859e-01,\n",
       "       -1.59605475e-01,  2.68394330e-01,  3.94863557e-01,  5.92823941e-01,\n",
       "       -1.93162687e+00,  8.58666287e-01,  9.74174272e-02, -9.19979803e-01,\n",
       "       -8.01146635e-01])"
      ]
     },
     "execution_count": 10,
     "metadata": {},
     "output_type": "execute_result"
    }
   ],
   "source": [
    "#9. Use Numpy to generate an array of 25 random numbers sampled from \n",
    "#    a standard normal distribution\n",
    "np.random.standard_normal(25)"
   ]
  },
  {
   "cell_type": "markdown",
   "id": "ed5cfb4f-8e58-4e60-92cf-4e2113137489",
   "metadata": {},
   "source": [
    "np.linspace?"
   ]
  },
  {
   "cell_type": "code",
   "execution_count": 12,
   "id": "80601548-11e8-4d64-8537-d461cc3763c6",
   "metadata": {},
   "outputs": [
    {
     "data": {
      "text/plain": [
       "array([[0.01, 0.02, 0.03, 0.04, 0.05, 0.06, 0.07, 0.08, 0.09, 0.1 ],\n",
       "       [0.11, 0.12, 0.13, 0.14, 0.15, 0.16, 0.17, 0.18, 0.19, 0.2 ],\n",
       "       [0.21, 0.22, 0.23, 0.24, 0.25, 0.26, 0.27, 0.28, 0.29, 0.3 ],\n",
       "       [0.31, 0.32, 0.33, 0.34, 0.35, 0.36, 0.37, 0.38, 0.39, 0.4 ],\n",
       "       [0.41, 0.42, 0.43, 0.44, 0.45, 0.46, 0.47, 0.48, 0.49, 0.5 ],\n",
       "       [0.51, 0.52, 0.53, 0.54, 0.55, 0.56, 0.57, 0.58, 0.59, 0.6 ],\n",
       "       [0.61, 0.62, 0.63, 0.64, 0.65, 0.66, 0.67, 0.68, 0.69, 0.7 ],\n",
       "       [0.71, 0.72, 0.73, 0.74, 0.75, 0.76, 0.77, 0.78, 0.79, 0.8 ],\n",
       "       [0.81, 0.82, 0.83, 0.84, 0.85, 0.86, 0.87, 0.88, 0.89, 0.9 ],\n",
       "       [0.91, 0.92, 0.93, 0.94, 0.95, 0.96, 0.97, 0.98, 0.99, 1.  ]])"
      ]
     },
     "execution_count": 12,
     "metadata": {},
     "output_type": "execute_result"
    }
   ],
   "source": [
    "# 10. Create a matrix of 10x10 matrix of linearly spaced elements from 0.01 to 1\n",
    "np.linspace(0.01,1,100).reshape(10,10)"
   ]
  },
  {
   "cell_type": "code",
   "execution_count": 13,
   "id": "bd4d31f4-9d48-4eca-917c-751e1c1ec453",
   "metadata": {},
   "outputs": [
    {
     "data": {
      "text/plain": [
       "array([0.        , 0.05263158, 0.10526316, 0.15789474, 0.21052632,\n",
       "       0.26315789, 0.31578947, 0.36842105, 0.42105263, 0.47368421,\n",
       "       0.52631579, 0.57894737, 0.63157895, 0.68421053, 0.73684211,\n",
       "       0.78947368, 0.84210526, 0.89473684, 0.94736842, 1.        ])"
      ]
     },
     "execution_count": 13,
     "metadata": {},
     "output_type": "execute_result"
    }
   ],
   "source": [
    "# 11. Create an array of 20 linearly spaced points between 0 and 1 \n",
    "np.linspace(0,1,20)"
   ]
  },
  {
   "cell_type": "code",
   "execution_count": 14,
   "id": "d56d2428-e512-4e3a-b249-ffb5ffa59291",
   "metadata": {},
   "outputs": [
    {
     "data": {
      "text/plain": [
       "array([[ 1,  2,  3,  4,  5],\n",
       "       [ 6,  7,  8,  9, 10],\n",
       "       [11, 12, 13, 14, 15],\n",
       "       [16, 17, 18, 19, 20],\n",
       "       [21, 22, 23, 24, 25]])"
      ]
     },
     "execution_count": 14,
     "metadata": {},
     "output_type": "execute_result"
    }
   ],
   "source": [
    "# 12.Create a 5x5 matrix\n",
    "d = np.arange(1,26).reshape(5,5)\n",
    "d"
   ]
  },
  {
   "cell_type": "code",
   "execution_count": 15,
   "id": "a516195b-22dd-4afe-8cdc-54ece0615946",
   "metadata": {},
   "outputs": [
    {
     "data": {
      "text/plain": [
       "array([[12, 13, 14, 15],\n",
       "       [17, 18, 19, 20],\n",
       "       [22, 23, 24, 25]])"
      ]
     },
     "execution_count": 15,
     "metadata": {},
     "output_type": "execute_result"
    }
   ],
   "source": [
    "#  a.array([[12, 13, 14, 15], \n",
    "#[17, 18, 19, 20], \n",
    "#[22, 23, 24, 25]])\n",
    "d[2:5,1:5]"
   ]
  },
  {
   "cell_type": "code",
   "execution_count": 16,
   "id": "189e8d21-6ce5-44eb-90bc-7784f34195e5",
   "metadata": {},
   "outputs": [
    {
     "data": {
      "text/plain": [
       "np.int64(20)"
      ]
     },
     "execution_count": 16,
     "metadata": {},
     "output_type": "execute_result"
    }
   ],
   "source": [
    "#  b. 20\n",
    "d[3,4]"
   ]
  },
  {
   "cell_type": "code",
   "execution_count": 17,
   "id": "b6126f6e-0182-4348-80df-1192fbb5c9a1",
   "metadata": {},
   "outputs": [
    {
     "data": {
      "text/plain": [
       "array([[ 2],\n",
       "       [ 7],\n",
       "       [12]])"
      ]
     },
     "execution_count": 17,
     "metadata": {},
     "output_type": "execute_result"
    }
   ],
   "source": [
    "#  c.array([[ 2], \n",
    "#  [ 7], \n",
    "#  [12]]) \n",
    "e=d[0:3,1]\n",
    "e\n",
    "e[:,np.newaxis]\n"
   ]
  },
  {
   "cell_type": "code",
   "execution_count": 18,
   "id": "71f60e3e-01ca-43d2-bd90-bcdb65238ac4",
   "metadata": {},
   "outputs": [
    {
     "data": {
      "text/plain": [
       "array([21, 22, 23, 24, 25])"
      ]
     },
     "execution_count": 18,
     "metadata": {},
     "output_type": "execute_result"
    }
   ],
   "source": [
    "# d.array([21, 22, 23, 24, 25])\n",
    "d[4,0:5]"
   ]
  },
  {
   "cell_type": "code",
   "execution_count": 19,
   "id": "d47637d9-f4dd-4288-a987-630dae09af90",
   "metadata": {},
   "outputs": [
    {
     "data": {
      "text/plain": [
       "array([[16, 17, 18, 19, 20],\n",
       "       [21, 22, 23, 24, 25]])"
      ]
     },
     "execution_count": 19,
     "metadata": {},
     "output_type": "execute_result"
    }
   ],
   "source": [
    "# e.array([[16, 17, 18, 19, 20], \n",
    "# [21, 22, 23, 24, 25]])\n",
    "d[3:5,0:5]"
   ]
  },
  {
   "cell_type": "code",
   "execution_count": 20,
   "id": "e3f041fb-b893-4a36-a8a2-60e82aae5f42",
   "metadata": {},
   "outputs": [
    {
     "data": {
      "text/plain": [
       "np.int64(325)"
      ]
     },
     "execution_count": 20,
     "metadata": {},
     "output_type": "execute_result"
    }
   ],
   "source": [
    "# 13. Get sum of all values in matrix \n",
    "np.sum(d)"
   ]
  },
  {
   "cell_type": "code",
   "execution_count": 21,
   "id": "83ebff1d-1297-47e6-8cfd-76591c5f58e2",
   "metadata": {},
   "outputs": [
    {
     "data": {
      "text/plain": [
       "array([55, 60, 65, 70, 75])"
      ]
     },
     "execution_count": 21,
     "metadata": {},
     "output_type": "execute_result"
    }
   ],
   "source": [
    "#14. Get sum of all the columns in matrix \n",
    "np.sum(d,axis=0)"
   ]
  },
  {
   "cell_type": "code",
   "execution_count": 22,
   "id": "ade1dbb1-ba12-43e9-9859-c486eeb9a039",
   "metadata": {},
   "outputs": [
    {
     "data": {
      "text/plain": [
       "array([1.41421356, 1.41421356, 1.41421356, 1.41421356, 1.41421356])"
      ]
     },
     "execution_count": 22,
     "metadata": {},
     "output_type": "execute_result"
    }
   ],
   "source": [
    "# 15. Get Standard deviation , varience , minimum, maximum from matrix row wise.\n",
    "np.std(d,axis=1)"
   ]
  },
  {
   "cell_type": "code",
   "execution_count": 23,
   "id": "3ddae734-db6c-4036-a546-e75a7b320269",
   "metadata": {},
   "outputs": [
    {
     "data": {
      "text/plain": [
       "array([2., 2., 2., 2., 2.])"
      ]
     },
     "execution_count": 23,
     "metadata": {},
     "output_type": "execute_result"
    }
   ],
   "source": [
    "np.var(d,axis=1)"
   ]
  },
  {
   "cell_type": "code",
   "execution_count": 24,
   "id": "37f2d878-94b8-4a59-9467-7807f45952c9",
   "metadata": {},
   "outputs": [
    {
     "data": {
      "text/plain": [
       "array([ 1,  6, 11, 16, 21])"
      ]
     },
     "execution_count": 24,
     "metadata": {},
     "output_type": "execute_result"
    }
   ],
   "source": [
    "np.min(d,axis=1)"
   ]
  },
  {
   "cell_type": "code",
   "execution_count": 25,
   "id": "d550ec46-8cbd-41a4-bb8b-eb9489e70e83",
   "metadata": {},
   "outputs": [
    {
     "data": {
      "text/plain": [
       "array([ 5, 10, 15, 20, 25])"
      ]
     },
     "execution_count": 25,
     "metadata": {},
     "output_type": "execute_result"
    }
   ],
   "source": [
    "np.max(d,axis=1)"
   ]
  },
  {
   "cell_type": "code",
   "execution_count": null,
   "id": "b91e7c3d-9fe8-4650-82f5-c30a4ab6a1b8",
   "metadata": {},
   "outputs": [],
   "source": []
  },
  {
   "cell_type": "markdown",
   "id": "7c4c7cdd-6484-48db-be55-e17427041f20",
   "metadata": {},
   "source": [
    "# Numpy Exercise 2"
   ]
  },
  {
   "cell_type": "code",
   "execution_count": 26,
   "id": "e4863db3-84f6-4aef-a963-af59bdc5e259",
   "metadata": {},
   "outputs": [
    {
     "name": "stdout",
     "output_type": "stream",
     "text": [
      "[0 1 2 3 4] [[0 1 2 3 4]\n",
      " [5 6 7 8 9]] [[[ 0  1  2]\n",
      "  [ 3  4  5]\n",
      "  [ 6  7  8]]\n",
      "\n",
      " [[ 9 10 11]\n",
      "  [12 13 14]\n",
      "  [15 16 17]]\n",
      "\n",
      " [[18 19 20]\n",
      "  [21 22 23]\n",
      "  [24 25 26]]]\n"
     ]
    }
   ],
   "source": [
    "# 1. Create 1-D, 2-D and 3-D numpy array \n",
    "l = np.arange(0,5)\n",
    "m = np.arange(0,10).reshape(2,5)\n",
    "n = np.arange(0,27).reshape(3,3,3)\n",
    "print(l,m,n)"
   ]
  },
  {
   "cell_type": "code",
   "execution_count": 29,
   "id": "f5a0b568-fdb9-47cd-b55d-a1d2162d0cf6",
   "metadata": {},
   "outputs": [
    {
     "data": {
      "text/plain": [
       "dtype('int64')"
      ]
     },
     "execution_count": 29,
     "metadata": {},
     "output_type": "execute_result"
    }
   ],
   "source": [
    "#2. Print data type of array. \n",
    "l.dtype\n",
    "m.dtype\n",
    "n.dtype"
   ]
  },
  {
   "cell_type": "code",
   "execution_count": 33,
   "id": "6f4129a7-ba19-4e42-8820-4c2d71166387",
   "metadata": {},
   "outputs": [
    {
     "data": {
      "text/plain": [
       "(5,)"
      ]
     },
     "execution_count": 33,
     "metadata": {},
     "output_type": "execute_result"
    }
   ],
   "source": [
    "# 3. Print shape and dimensions of all the three different array.\n",
    "np.ndim(l)\n",
    "np.shape(l)"
   ]
  },
  {
   "cell_type": "code",
   "execution_count": 39,
   "id": "5cbf8b7b-1a6e-44c7-a062-c7baf49ce40a",
   "metadata": {},
   "outputs": [
    {
     "data": {
      "text/plain": [
       "array([[0., 0., 0., 0., 0., 0., 0., 0., 0., 0., 0., 0., 0.]])"
      ]
     },
     "execution_count": 39,
     "metadata": {},
     "output_type": "execute_result"
    }
   ],
   "source": [
    "# 4. Create another 1-D array of 12 elements filled with zero \n",
    "f = np.zeros((1,13))\n",
    "f"
   ]
  },
  {
   "cell_type": "code",
   "execution_count": 44,
   "id": "833a163a-9e28-4e9c-8953-e3f5c48912a8",
   "metadata": {},
   "outputs": [
    {
     "data": {
      "text/plain": [
       "array([[1., 1., 1., 1.],\n",
       "       [1., 1., 1., 1.],\n",
       "       [1., 1., 1., 1.],\n",
       "       [1., 1., 1., 1.]])"
      ]
     },
     "execution_count": 44,
     "metadata": {},
     "output_type": "execute_result"
    }
   ],
   "source": [
    "# 5. Create another 2-D array elements filled with ones. \n",
    "g = np.ones(16).reshape(4,4)\n",
    "g"
   ]
  },
  {
   "cell_type": "code",
   "execution_count": 48,
   "id": "8ed026ee-0249-4275-a0d2-d6d15ff05fa0",
   "metadata": {},
   "outputs": [
    {
     "data": {
      "text/plain": [
       "array([95, 11, 81, 70, 63, 87, 75,  9, 77, 40,  4, 63, 40, 60, 92, 64,  5,\n",
       "       12, 93, 40], dtype=int32)"
      ]
     },
     "execution_count": 48,
     "metadata": {},
     "output_type": "execute_result"
    }
   ],
   "source": [
    "# 6. Create a 1-D array known as Maths Marks out of 100 having 20 elements.\n",
    "np.random.seed(101)\n",
    "q=np.random.randint(0,100,20)\n",
    "q"
   ]
  },
  {
   "cell_type": "code",
   "execution_count": 61,
   "id": "1c3549be-6b11-45dc-bcfd-7ec29b7a84d5",
   "metadata": {},
   "outputs": [
    {
     "data": {
      "text/plain": [
       "array([95, 93, 92, 87, 81, 77, 75, 70, 64, 63, 63, 60, 40, 40, 40, 12, 11,\n",
       "        9,  5,  4], dtype=int32)"
      ]
     },
     "execution_count": 61,
     "metadata": {},
     "output_type": "execute_result"
    }
   ],
   "source": [
    "# 7. Sort the above array in ascending and descending order.\n",
    "q.sort()\n",
    "p=q[::-1]\n",
    "p"
   ]
  },
  {
   "cell_type": "code",
   "execution_count": 63,
   "id": "b720e52e-f72a-427e-b5bf-6b3917da7190",
   "metadata": {},
   "outputs": [
    {
     "data": {
      "text/plain": [
       "array([[95, 93, 92, 87],\n",
       "       [81, 77, 75, 70],\n",
       "       [64, 63, 63, 60],\n",
       "       [40, 40, 40, 12],\n",
       "       [11,  9,  5,  4]], dtype=int32)"
      ]
     },
     "execution_count": 63,
     "metadata": {},
     "output_type": "execute_result"
    }
   ],
   "source": [
    "# 8. Create a copy of sorted array to another variable by deep copying.\n",
    "d = p.reshape(5,4)\n",
    "d"
   ]
  },
  {
   "cell_type": "code",
   "execution_count": 65,
   "id": "145c0d24-b24e-4ef5-9d76-aae6d597fc43",
   "metadata": {},
   "outputs": [
    {
     "data": {
      "text/plain": [
       "array([[93, 92],\n",
       "       [77, 75],\n",
       "       [63, 63],\n",
       "       [40, 40]], dtype=int32)"
      ]
     },
     "execution_count": 65,
     "metadata": {},
     "output_type": "execute_result"
    }
   ],
   "source": [
    "v = d[0:4,1:3].copy()\n",
    "v"
   ]
  },
  {
   "cell_type": "code",
   "execution_count": 70,
   "id": "83da0337-0d30-4318-9a24-73a8125e8ffa",
   "metadata": {},
   "outputs": [
    {
     "data": {
      "text/plain": [
       "array([1., 0., 0., 0., 0., 0., 1., 0., 0., 0., 0., 0., 1., 0., 0., 0., 0.,\n",
       "       0., 1., 0., 0., 0., 0., 0., 1.])"
      ]
     },
     "execution_count": 70,
     "metadata": {},
     "output_type": "execute_result"
    }
   ],
   "source": [
    "# 9. Create 2-D array of 5x5 which is an identity matrix and then convert 1D .\n",
    "p = np.eye(5,5)\n",
    "p.reshape(25)\n",
    "\n"
   ]
  },
  {
   "cell_type": "code",
   "execution_count": 83,
   "id": "e4b8829e-1112-44b6-ac52-18e7265990d3",
   "metadata": {},
   "outputs": [
    {
     "data": {
      "text/plain": [
       "array([[ 1,  2,  3],\n",
       "       [ 4,  5,  6],\n",
       "       [ 7,  8,  9],\n",
       "       [10, 11, 12]])"
      ]
     },
     "execution_count": 83,
     "metadata": {},
     "output_type": "execute_result"
    }
   ],
   "source": [
    "# 10. Create 2-D array of 3x3. Add one more row to it.\n",
    "u = np.arange(1,10).reshape(3,3)\n",
    "v=np.array((10,11,12))\n",
    "f =np.vstack((u,v))\n",
    "f"
   ]
  },
  {
   "cell_type": "code",
   "execution_count": 90,
   "id": "e9ebc88c-a0d4-49de-968c-619657c6a2d2",
   "metadata": {},
   "outputs": [
    {
     "data": {
      "text/plain": [
       "[array([[ 0.,  1.],\n",
       "        [ 4.,  5.],\n",
       "        [ 8.,  9.],\n",
       "        [12., 13.]]),\n",
       " array([[ 2.,  3.],\n",
       "        [ 6.,  7.],\n",
       "        [10., 11.],\n",
       "        [14., 15.]])]"
      ]
     },
     "execution_count": 90,
     "metadata": {},
     "output_type": "execute_result"
    }
   ],
   "source": [
    "# 11. Split above array created vertically and horizontally. \n",
    "x = np.arange(16.0).reshape(4, 4)\n",
    "x\n",
    "np.vsplit(x,2)\n",
    "np.hsplit(x,2)"
   ]
  },
  {
   "cell_type": "markdown",
   "id": "e2dd292a-4030-42b8-95e0-704594a1f0a6",
   "metadata": {},
   "source": [
    "np.vsplit?"
   ]
  },
  {
   "cell_type": "code",
   "execution_count": 95,
   "id": "3bb62a95-e339-4f7a-ada1-16831e55ef2e",
   "metadata": {},
   "outputs": [
    {
     "data": {
      "text/plain": [
       "array([[5., 4., 4., 4.],\n",
       "       [4., 5., 4., 4.],\n",
       "       [4., 4., 5., 4.],\n",
       "       [4., 4., 4., 5.]])"
      ]
     },
     "execution_count": 95,
     "metadata": {},
     "output_type": "execute_result"
    }
   ],
   "source": [
    "# 12. Create 4x4 identity matrix. Add 4 to each element.\n",
    "w = np.eye(4)\n",
    "w+4"
   ]
  },
  {
   "cell_type": "code",
   "execution_count": 102,
   "id": "3ce5953d-b5e9-4b8e-b4e3-1b92be5cdea9",
   "metadata": {},
   "outputs": [
    {
     "data": {
      "text/plain": [
       "array([1.23, 2.56, 3.45, 8.97])"
      ]
     },
     "execution_count": 102,
     "metadata": {},
     "output_type": "execute_result"
    }
   ],
   "source": [
    "#13. Create 1-D array. Initialize with floating point values. Display its ceil, \n",
    "# floor and round (with 2 decimal’s). \n",
    "r = np.array((1.23,2.56,3.45,8.97))\n",
    "np.ceil(r)\n",
    "np.floor(r)\n",
    "np.round(r,2)"
   ]
  },
  {
   "cell_type": "code",
   "execution_count": 105,
   "id": "fa6ea2ab-0c6d-4d1b-b8e9-f4862096adc8",
   "metadata": {},
   "outputs": [
    {
     "data": {
      "text/plain": [
       "array([[ 9, 25, 68, 88, 80],\n",
       "       [49, 11, 95, 53, 99],\n",
       "       [54, 67, 99, 15, 35],\n",
       "       [25, 16, 61, 59, 17],\n",
       "       [10, 94, 87,  3, 28]], dtype=int32)"
      ]
     },
     "execution_count": 105,
     "metadata": {},
     "output_type": "execute_result"
    }
   ],
   "source": [
    "# 14. Create 5x5 matrix. Display min, max, variance and standard deviation column-wise\n",
    "np.random.seed(100)\n",
    "t = np.random.randint(1,100,25).reshape(5,5)\n",
    "t"
   ]
  },
  {
   "cell_type": "code",
   "execution_count": 106,
   "id": "a95f0c2b-04e2-477e-b9d9-1f3958d6c428",
   "metadata": {},
   "outputs": [
    {
     "data": {
      "text/plain": [
       "np.int32(3)"
      ]
     },
     "execution_count": 106,
     "metadata": {},
     "output_type": "execute_result"
    }
   ],
   "source": [
    "np.min(t)"
   ]
  },
  {
   "cell_type": "code",
   "execution_count": 107,
   "id": "b165d627-ab6c-42d3-a1cd-dad44be116b4",
   "metadata": {},
   "outputs": [
    {
     "data": {
      "text/plain": [
       "np.int32(99)"
      ]
     },
     "execution_count": 107,
     "metadata": {},
     "output_type": "execute_result"
    }
   ],
   "source": [
    "np.max(t)"
   ]
  },
  {
   "cell_type": "code",
   "execution_count": 108,
   "id": "f5485b39-d237-4e48-afe0-e60820c22a48",
   "metadata": {},
   "outputs": [
    {
     "data": {
      "text/plain": [
       "np.float64(1030.2656000000002)"
      ]
     },
     "execution_count": 108,
     "metadata": {},
     "output_type": "execute_result"
    }
   ],
   "source": [
    "np.var(t)"
   ]
  },
  {
   "cell_type": "code",
   "execution_count": 111,
   "id": "c9b035c7-f3cb-4e0e-9cc2-f2728b17497d",
   "metadata": {},
   "outputs": [
    {
     "data": {
      "text/plain": [
       "array([31.28577952, 32.57974831, 28.55170748, 20.17523234, 38.57771377])"
      ]
     },
     "execution_count": 111,
     "metadata": {},
     "output_type": "execute_result"
    }
   ],
   "source": [
    "np.std(t,axis=1)"
   ]
  },
  {
   "cell_type": "code",
   "execution_count": 115,
   "id": "77d090ca-477f-49a6-9789-70f5efb3da4e",
   "metadata": {},
   "outputs": [
    {
     "data": {
      "text/plain": [
       "array([ nan,  nan,  nan,  nan,  nan,  nan, 200.,  nan,  nan,  nan])"
      ]
     },
     "execution_count": 115,
     "metadata": {},
     "output_type": "execute_result"
    }
   ],
   "source": [
    "# 15. Create a null vector of size 10 with 6th value filled with 200. \n",
    "t1 = np.full((10),np.nan)\n",
    "t1[6]=200\n",
    "t1"
   ]
  },
  {
   "cell_type": "code",
   "execution_count": 117,
   "id": "6f5986a7-b703-4302-a309-36cd2d4dad45",
   "metadata": {},
   "outputs": [
    {
     "data": {
      "text/plain": [
       "array([100, 101, 102, 103, 104, 105, 106, 107, 108, 109, 110, 111, 112,\n",
       "       113, 114, 115, 116, 117, 118, 119, 120, 121, 122, 123, 124, 125,\n",
       "       126, 127, 128, 129, 130, 131, 132, 133, 134, 135, 136, 137, 138,\n",
       "       139, 140, 141, 142, 143, 144, 145, 146, 147, 148, 149, 150])"
      ]
     },
     "execution_count": 117,
     "metadata": {},
     "output_type": "execute_result"
    }
   ],
   "source": [
    "# 16. Create a 1-D Array/Vector with values ranging from 100 to 150 in sequence. \n",
    "c1=np.arange(100,151)\n",
    "c1"
   ]
  },
  {
   "cell_type": "code",
   "execution_count": 118,
   "id": "d60cf347-10f1-4694-bfb4-df64fd8d3a2b",
   "metadata": {},
   "outputs": [
    {
     "data": {
      "text/plain": [
       "array([150, 149, 148, 147, 146, 145, 144, 143, 142, 141, 140, 139, 138,\n",
       "       137, 136, 135, 134, 133, 132, 131, 130, 129, 128, 127, 126, 125,\n",
       "       124, 123, 122, 121, 120, 119, 118, 117, 116, 115, 114, 113, 112,\n",
       "       111, 110, 109, 108, 107, 106, 105, 104, 103, 102, 101, 100])"
      ]
     },
     "execution_count": 118,
     "metadata": {},
     "output_type": "execute_result"
    }
   ],
   "source": [
    "# 17. Reverse the above vector. \n",
    "c1[::-1]"
   ]
  },
  {
   "cell_type": "code",
   "execution_count": 119,
   "id": "7e056360-71c0-414f-a1bd-6d59d3c03b73",
   "metadata": {},
   "outputs": [
    {
     "data": {
      "text/plain": [
       "array([[ 0,  1,  2,  3,  4],\n",
       "       [ 5,  6,  7,  8,  9],\n",
       "       [10, 11, 12, 13, 14],\n",
       "       [15, 16, 17, 18, 19],\n",
       "       [20, 21, 22, 23, 24]])"
      ]
     },
     "execution_count": 119,
     "metadata": {},
     "output_type": "execute_result"
    }
   ],
   "source": [
    "# 18. Create a 5x5 matrix with values ranging from 0-24 using some function. \n",
    "r1 = np.arange(0,25).reshape(5,5)\n",
    "r1"
   ]
  },
  {
   "cell_type": "code",
   "execution_count": 121,
   "id": "47f236d6-af0a-46d9-b534-927733a4cf22",
   "metadata": {},
   "outputs": [
    {
     "data": {
      "text/plain": [
       "(array([0, 2, 5, 7]),)"
      ]
     },
     "execution_count": 121,
     "metadata": {},
     "output_type": "execute_result"
    }
   ],
   "source": [
    "# 19. Find indices of nonzero elements from [1,0,2,0,0,4,0,8] \n",
    "d1=np.array((1,0,2,0,0,4,0,8))\n",
    "d1\n",
    "np.nonzero(d1)"
   ]
  },
  {
   "cell_type": "code",
   "execution_count": 126,
   "id": "a35d31df-bf6c-455d-9b2a-0d193027c237",
   "metadata": {},
   "outputs": [
    {
     "data": {
      "text/plain": [
       "array([[1., 1., 1., 1., 1., 1., 1., 1., 1., 1.],\n",
       "       [1., 0., 0., 0., 0., 0., 0., 0., 0., 1.],\n",
       "       [1., 0., 0., 0., 0., 0., 0., 0., 0., 1.],\n",
       "       [1., 0., 0., 0., 0., 0., 0., 0., 0., 1.],\n",
       "       [1., 0., 0., 0., 0., 0., 0., 0., 0., 1.],\n",
       "       [1., 0., 0., 0., 0., 0., 0., 0., 0., 1.],\n",
       "       [1., 0., 0., 0., 0., 0., 0., 0., 0., 1.],\n",
       "       [1., 0., 0., 0., 0., 0., 0., 0., 0., 1.],\n",
       "       [1., 0., 0., 0., 0., 0., 0., 0., 0., 1.],\n",
       "       [1., 1., 1., 1., 1., 1., 1., 1., 1., 1.]])"
      ]
     },
     "execution_count": 126,
     "metadata": {},
     "output_type": "execute_result"
    }
   ],
   "source": [
    "# 20. Create a 10x10 matrix with 1 on the borders and 0 inside.\n",
    "p1 = np.ones((10,10))\n",
    "p1[1:9,1:9]=0\n",
    "p1"
   ]
  },
  {
   "cell_type": "code",
   "execution_count": 127,
   "id": "6e4330b7-dab1-4c6a-bd70-6a937ce51d49",
   "metadata": {},
   "outputs": [
    {
     "data": {
      "text/plain": [
       "array([[1., 0., 1., 0., 1., 0., 1., 0.],\n",
       "       [0., 1., 0., 1., 0., 1., 0., 1.],\n",
       "       [1., 0., 1., 0., 1., 0., 1., 0.],\n",
       "       [0., 1., 0., 1., 0., 1., 0., 1.],\n",
       "       [1., 0., 1., 0., 1., 0., 1., 0.],\n",
       "       [0., 1., 0., 1., 0., 1., 0., 1.],\n",
       "       [1., 0., 1., 0., 1., 0., 1., 0.],\n",
       "       [0., 1., 0., 1., 0., 1., 0., 1.]])"
      ]
     },
     "execution_count": 127,
     "metadata": {},
     "output_type": "execute_result"
    }
   ],
   "source": [
    "# 21. Create 8x8 matrix and fill with 1 and 0 in checkerboard pattern. \n",
    "arr4 = np.zeros((8,8))\n",
    "arr4[::2,::2]=1\n",
    "arr4[1::2,1::2]=1\n",
    "arr4"
   ]
  },
  {
   "cell_type": "code",
   "execution_count": 128,
   "id": "4f436be1-3bd1-4a73-8c8b-c3932d1f2eae",
   "metadata": {},
   "outputs": [
    {
     "name": "stdout",
     "output_type": "stream",
     "text": [
      "[[96 12 82]\n",
      " [71 64 88]\n",
      " [76 10 78]] [[41  5 64]\n",
      " [41 61 93]\n",
      " [65  6 13]]\n"
     ]
    }
   ],
   "source": [
    "# 22. Create two 3x3 matrix with random integer values. Perform matrix \n",
    "# addition, multiplication and subtraction\n",
    "np.random.seed(101)\n",
    "q1 = np.random.randint(1,100,9).reshape(3,3)\n",
    "q2 = np.random.randint(1,100,9).reshape(3,3)\n",
    "print(q1,q2)"
   ]
  },
  {
   "cell_type": "code",
   "execution_count": 129,
   "id": "e8ac3624-782b-4e31-adf4-f92ed4ce1b3e",
   "metadata": {},
   "outputs": [
    {
     "data": {
      "text/plain": [
       "array([[137,  17, 146],\n",
       "       [112, 125, 181],\n",
       "       [141,  16,  91]], dtype=int32)"
      ]
     },
     "execution_count": 129,
     "metadata": {},
     "output_type": "execute_result"
    }
   ],
   "source": [
    "np.add(q1,q2)"
   ]
  },
  {
   "cell_type": "code",
   "execution_count": 130,
   "id": "065b120d-0f15-4cb4-9088-5fc0e5089305",
   "metadata": {},
   "outputs": [
    {
     "data": {
      "text/plain": [
       "array([[3936,   60, 5248],\n",
       "       [2911, 3904, 8184],\n",
       "       [4940,   60, 1014]], dtype=int32)"
      ]
     },
     "execution_count": 130,
     "metadata": {},
     "output_type": "execute_result"
    }
   ],
   "source": [
    "np.multiply(q1,q2)"
   ]
  },
  {
   "cell_type": "code",
   "execution_count": 131,
   "id": "63d8a58a-d799-4b43-8647-0677f4b24875",
   "metadata": {},
   "outputs": [
    {
     "data": {
      "text/plain": [
       "array([[55,  7, 18],\n",
       "       [30,  3, -5],\n",
       "       [11,  4, 65]], dtype=int32)"
      ]
     },
     "execution_count": 131,
     "metadata": {},
     "output_type": "execute_result"
    }
   ],
   "source": [
    "np.subtract(q1,q2)"
   ]
  },
  {
   "cell_type": "code",
   "execution_count": null,
   "id": "8b219b0d-2c27-4a84-9c77-180d87e0f6f0",
   "metadata": {},
   "outputs": [],
   "source": []
  }
 ],
 "metadata": {
  "kernelspec": {
   "display_name": "Python 3 (ipykernel)",
   "language": "python",
   "name": "python3"
  },
  "language_info": {
   "codemirror_mode": {
    "name": "ipython",
    "version": 3
   },
   "file_extension": ".py",
   "mimetype": "text/x-python",
   "name": "python",
   "nbconvert_exporter": "python",
   "pygments_lexer": "ipython3",
   "version": "3.12.3"
  }
 },
 "nbformat": 4,
 "nbformat_minor": 5
}
