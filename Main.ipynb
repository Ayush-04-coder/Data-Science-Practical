{
 "cells": [
  {
   "cell_type": "code",
   "execution_count": 1,
   "id": "e02e6143-3069-4754-8ffc-0baf7974b162",
   "metadata": {},
   "outputs": [
    {
     "name": "stdout",
     "output_type": "stream",
     "text": [
      "2401\n"
     ]
    }
   ],
   "source": [
    "a=7**4\n",
    "print(a)"
   ]
  },
  {
   "cell_type": "code",
   "execution_count": 2,
   "id": "9ebcffe7-60de-4e5d-ac10-47409ff877d2",
   "metadata": {},
   "outputs": [
    {
     "data": {
      "text/plain": [
       "['Hi', 'there', 'is', 'sam!']"
      ]
     },
     "execution_count": 2,
     "metadata": {},
     "output_type": "execute_result"
    }
   ],
   "source": [
    "s = \"Hi there is sam!\"\n",
    "s.split()"
   ]
  },
  {
   "cell_type": "code",
   "execution_count": 4,
   "id": "ede860fa-310f-44fa-9d14-246fc973eb38",
   "metadata": {},
   "outputs": [
    {
     "name": "stdout",
     "output_type": "stream",
     "text": [
      "The diameter of Earth is 12742\n"
     ]
    }
   ],
   "source": [
    "planet = \"Earth\"\n",
    "diameter=12742\n",
    "print(f\"The diameter of {planet} is {diameter}\")\n"
   ]
  },
  {
   "cell_type": "code",
   "execution_count": 8,
   "id": "1c9462d0-0fa7-44b9-b52b-20aad97ad51e",
   "metadata": {},
   "outputs": [
    {
     "name": "stdout",
     "output_type": "stream",
     "text": [
      "['hello']\n"
     ]
    }
   ],
   "source": [
    "lst = [1,2,[3,4],[5,[100,200,['hello']],23,11],1,7] \n",
    "print(lst[3][1][2])"
   ]
  },
  {
   "cell_type": "code",
   "execution_count": 9,
   "id": "e31419bd-7e2e-4514-9dae-6f8a9279b381",
   "metadata": {},
   "outputs": [
    {
     "data": {
      "text/plain": [
       "'hello'"
      ]
     },
     "execution_count": 9,
     "metadata": {},
     "output_type": "execute_result"
    }
   ],
   "source": [
    "d = {'k1':[1,2,3,{'tricky':['oh','man','inception',{'target':[1,2,3,'hello']}]}]} \n",
    "d['k1'][3]['tricky'][3]['target'][3]"
   ]
  },
  {
   "cell_type": "code",
   "execution_count": 15,
   "id": "827ca0ee-3063-44e2-b2c4-6a0ca053c509",
   "metadata": {},
   "outputs": [
    {
     "name": "stdin",
     "output_type": "stream",
     "text": [
      "enter your email:  ayush@gmail.com\n"
     ]
    },
    {
     "name": "stdout",
     "output_type": "stream",
     "text": [
      "gmail.com\n"
     ]
    }
   ],
   "source": [
    "def email(mail):\n",
    "    a=mail.split('@')\n",
    "    print(a[1])\n",
    "    \n",
    "mail=input(\"enter your email: \")\n",
    "email(mail)\n"
   ]
  },
  {
   "cell_type": "code",
   "execution_count": null,
   "id": "2d5432c6-bfd7-44d5-b51f-21fe9013565a",
   "metadata": {},
   "outputs": [],
   "source": [
    "def fond("
   ]
  },
  {
   "cell_type": "code",
   "execution_count": 28,
   "id": "52154f9c-441e-4519-a709-1f7a643d6312",
   "metadata": {},
   "outputs": [
    {
     "name": "stdin",
     "output_type": "stream",
     "text": [
      "Enter your speed:  65\n",
      "enter your birthday dd/mm/yyyy:  2901\n"
     ]
    },
    {
     "name": "stdout",
     "output_type": "stream",
     "text": [
      "Small Ticket\n",
      "70\n"
     ]
    }
   ],
   "source": [
    "a = int(input(\"Enter your speed: \"))\n",
    "b = int(input(\"enter your birthday dd/mm/yyyy: \"))\n",
    "if(b == 2901):\n",
    "    if (a<=60):\n",
    "        print(\"No Ticket\")\n",
    "    elif (a>=61 or a<=81):\n",
    "        print(\"Small Ticket\")\n",
    "    else:\n",
    "        print(\"Big Ticket\")\n",
    "    print(a+5)\n",
    "else:\n",
    "    print(\"proper birthday\")"
   ]
  },
  {
   "cell_type": "code",
   "execution_count": 36,
   "id": "59054793-9366-43df-ba83-3761e5bc4b65",
   "metadata": {},
   "outputs": [
    {
     "name": "stdin",
     "output_type": "stream",
     "text": [
      "Enter your Roll.no?:  54\n",
      "Enter Your name?:  Ayush\n",
      "Enter your Maths Marks:  80\n",
      "Enter your Physics Marks:  80\n",
      "Enter your Chemistry Marks:  90\n"
     ]
    },
    {
     "name": "stdout",
     "output_type": "stream",
     "text": [
      "Roll Number: 54\n",
      "Name: Ayush\n",
      "Marks: Maths - 80, Physics - 80, Chemistry - 90\n",
      "Percentage: 83.33333333333334%\n",
      "DISTINCTION\n"
     ]
    }
   ],
   "source": [
    "def perc(m, p, c):\n",
    "    total_marks = m + p + c\n",
    "    percentage = (total_marks / 300) * 100  # Assuming total marks for 3 subjects is 300\n",
    "\n",
    "    print(f\"Percentage: {percentage}%\")\n",
    "\n",
    "    if percentage > 70:\n",
    "        print(\"DISTINCTION\")\n",
    "    elif percentage > 60:\n",
    "        print(\"FIRST CLASS\")\n",
    "    elif percentage > 50:\n",
    "        print(\"SECOND CLASS\")\n",
    "    elif percentage > 40:\n",
    "        print(\"PASS CLASS\")\n",
    "    else:\n",
    "        print(\"FAIL\")\n",
    "\n",
    "def grea(marks):\n",
    "    for mark in marks:\n",
    "        if mark <= 40:\n",
    "            return \"Fail\"\n",
    "    return \"Pass\"\n",
    "\n",
    "a = int(input(\"Enter your Roll.no?: \"))\n",
    "b = input(\"Enter Your name?: \")\n",
    "Maths = int(input(\"Enter your Maths Marks: \"))\n",
    "Physics = int(input(\"Enter your Physics Marks: \"))\n",
    "Chemistry = int(input(\"Enter your Chemistry Marks: \"))\n",
    "chk_marks = [Maths, Physics, Chemistry]\n",
    "\n",
    "result = grea(chk_marks)\n",
    "\n",
    "if result == \"Fail\":\n",
    "    print(\"FAIL\")\n",
    "else:\n",
    "    print(f\"Roll Number: {a}\")\n",
    "    print(f\"Name: {b}\")\n",
    "    print(f\"Marks: Maths - {Maths}, Physics - {Physics}, Chemistry - {Chemistry}\")\n",
    "    perc(Maths, Physics, Chemistry)\n"
   ]
  },
  {
   "cell_type": "code",
   "execution_count": 16,
   "id": "dff4ef85-fd27-40fc-a41d-280c013f6ddd",
   "metadata": {},
   "outputs": [
    {
     "name": "stdin",
     "output_type": "stream",
     "text": [
      "Enter Your ID:  23000473\n",
      "Enter Your Name:  Ayush\n",
      "Enter your Salary:  100000\n",
      "Enter Your Experience:  30\n"
     ]
    },
    {
     "name": "stdout",
     "output_type": "stream",
     "text": [
      "The Net profit without bonus: 83500.0\n",
      "The Bonus of employee: 59000.0\n",
      "The Net Salary of Employee Ayush (ID: 23000473): 142500.0\n"
     ]
    }
   ],
   "source": [
    "def np(hra, da, pf):\n",
    "    netprofit = hra * (35 / 100) + da * (58 / 100) - pf * (95 / 1000)\n",
    "    return netprofit\n",
    "\n",
    "def bon(salary, experience):\n",
    "    if experience >= 30:\n",
    "        return salary * (59 / 100)\n",
    "    elif experience >= 23:\n",
    "        return salary * (51 / 100)\n",
    "    elif experience >= 15:\n",
    "        return salary * (45 / 100)\n",
    "    elif experience >= 7:\n",
    "        return salary * (33 / 100)\n",
    "    else:\n",
    "        return salary * (16 / 100)\n",
    "\n",
    "a = int(input(\"Enter Your ID: \"))\n",
    "b = input(\"Enter Your Name: \")\n",
    "c = int(input(\"Enter your Salary: \"))\n",
    "d = int(input(\"Enter Your Experience: \"))\n",
    "\n",
    "f = np(c, c, c)\n",
    "g = bon(c, d)\n",
    "no = f + g\n",
    "\n",
    "print(f\"The Net profit without bonus: {f}\")\n",
    "print(f\"The Bonus of employee: {g}\")\n",
    "print(f\"The Net Salary of Employee {b} (ID: {a}): {no}\")\n",
    "\n",
    "\n"
   ]
  },
  {
   "cell_type": "code",
   "execution_count": null,
   "id": "b1f3a1cf-74ac-48b0-8951-759b60036865",
   "metadata": {},
   "outputs": [],
   "source": []
  }
 ],
 "metadata": {
  "kernelspec": {
   "display_name": "Python 3 (ipykernel)",
   "language": "python",
   "name": "python3"
  },
  "language_info": {
   "codemirror_mode": {
    "name": "ipython",
    "version": 3
   },
   "file_extension": ".py",
   "mimetype": "text/x-python",
   "name": "python",
   "nbconvert_exporter": "python",
   "pygments_lexer": "ipython3",
   "version": "3.12.3"
  }
 },
 "nbformat": 4,
 "nbformat_minor": 5
}
